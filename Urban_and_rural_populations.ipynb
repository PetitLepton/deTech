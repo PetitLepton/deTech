{
 "cells": [
  {
   "cell_type": "markdown",
   "metadata": {},
   "source": [
    "# South-Eastern rural and urban populations"
   ]
  },
  {
   "cell_type": "markdown",
   "metadata": {
    "tags": [
     "no_report"
    ]
   },
   "source": [
    "# Or ... sharing information with Python and Jupyter notebooks"
   ]
  },
  {
   "cell_type": "markdown",
   "metadata": {
    "tags": [
     "no_report"
    ]
   },
   "source": [
    "The objective of this workshop is to give you the flavour of sharing information with Python and Jupyter notebooks.\n",
    "> Python is, in fact, not really required. The analysis can perfectly be done with R and Jupyter. Most of the following would still be available. R offers other opportunities like RMarkdown or Shiny.\n",
    "\n",
    "Jupyter makes use of Web technologies, namely HTML, Javascript and CSS. It is therefore possible to use this tools in conjunction with Python for analysing data. We will definitely harvest the potential of the notebooks for sharing information.\n",
    "\n",
    "During the course of this workshop, we will try to use several types of structure to convey an idea: text, tables, spreadsheets (definitely like tables) and charts. For each of these elements, we will try to apply best practices. Details matter!\n",
    "\n",
    "There are many libraries for building charts in Python. For static charts, [Matplotlib](https://matplotlib.org/) and [Seaborn](https://seaborn.pydata.org/) are definitely the reference. Beyond static, several packages are now available in Python for leveraging interactivity (most of them are wrapper around the Javascript library [D3.js](https://d3js.org/)). Among them, one can highlight [Bokeh](https://bokeh.pydata.org) and [Altair](https://altair-viz.github.io/). The following is based on [plot.ly](https://plot.ly/python/).\n",
    "> This choice was not made because of plot.ly being superior to the previous but mainly because I have been using the library for several years, got used to it and developed small helpers to design charts the way I want."
   ]
  },
  {
   "cell_type": "code",
   "execution_count": null,
   "metadata": {},
   "outputs": [],
   "source": [
    "import pandas as pd \n",
    "from IPython.display import display, Markdown\n",
    "import datasheets\n",
    "import plotly as py\n",
    "import plotly.graph_objs as go\n",
    "from plotly_layout import *\n",
    "from tables import align_left\n",
    "\n",
    "# This allows to make a request for loading the library,\n",
    "# instead of embedding the whole Javascript library into\n",
    "# the notebook/HTML. If you want a self-contained notebook,\n",
    "# you can use connected=False\n",
    "py.offline.init_notebook_mode(connected=True)\n",
    "\n",
    "PALETTE = [\n",
    "    \"#4e79a7\",\n",
    "    \"#f28e2b\",\n",
    "    \"#e15759\",\n",
    "    \"#76b7b2\",\n",
    "    \"#59a14f\",\n",
    "    \"#edc948\",\n",
    "    \"#b07aa1\",\n",
    "    \"#ff9da7\",\n",
    "    \"#9c755f\",\n",
    "    \"#bab0ac\",]\n",
    "\n",
    "\n",
    "fonts = dict(ibm_plex='IBM Plex Sans Condensed', roboto='Roboto Condensed')"
   ]
  },
  {
   "cell_type": "code",
   "execution_count": null,
   "metadata": {
    "tags": [
     "no_report"
    ]
   },
   "outputs": [],
   "source": [
    "%%html\n",
    "<!--Load the fonts: this will be explained later on-->\n",
    "<style>\n",
    "    @import url('https://fonts.googleapis.com/css?family=IBM+Plex+Sans+Condensed:400');\n",
    "    @import url('https://fonts.googleapis.com/css?family=Roboto+Condensed');\n",
    "</style>"
   ]
  },
  {
   "cell_type": "markdown",
   "metadata": {},
   "source": [
    "The following analysis is based on the post:\n",
    "\n",
    "_Hannah Ritchie and Max Roser (2018) - \"Urbanization\"._\n",
    "<br>_Published online at OurWorldInData.org._\n",
    "<br>[https://ourworldindata.org/urbanization](https://ourworldindata.org/urbanization)"
   ]
  },
  {
   "cell_type": "markdown",
   "metadata": {
    "tags": [
     "no_report"
    ]
   },
   "source": [
    "We are going to explore data from the United Nations with the previous post as a guideline. "
   ]
  },
  {
   "cell_type": "markdown",
   "metadata": {},
   "source": [
    "## Data extraction"
   ]
  },
  {
   "cell_type": "code",
   "execution_count": null,
   "metadata": {},
   "outputs": [],
   "source": [
    "root_url = 'https://population.un.org/wup/Download/Files/'\n",
    "country_codes_URL = 'https://unstats.un.org/unsd/methodology/m49/'"
   ]
  },
  {
   "cell_type": "code",
   "execution_count": null,
   "metadata": {},
   "outputs": [],
   "source": [
    "# In this case, we could directly type the URL as Markdown. The point of this trick\n",
    "# is to show how to embed computed values into a Markdown text, therefore dynamically\n",
    "# filled when the notebook is executed.\n",
    "m = (\n",
    "     'The current urban and rural populations per country can be retrieved from the ' \n",
    "     f'[United Nations data portal]({root_url}) as indicated in the post.'\n",
    " )\n",
    "Markdown(m)"
   ]
  },
  {
   "cell_type": "markdown",
   "metadata": {
    "tags": [
     "no_report"
    ]
   },
   "source": [
    "The data are available as Excel sheets. We are going to extract them and transform them into a more manageable format, following parts of the recommendations of [Tidy Data](http://vita.had.co.nz/papers/tidy-data.html)."
   ]
  },
  {
   "cell_type": "code",
   "execution_count": null,
   "metadata": {},
   "outputs": [],
   "source": [
    "url = root_url + 'WUP2018-F01-Total_Urban_Rural.xls'\n",
    "df_tur_raw = pd.read_excel(io=url)"
   ]
  },
  {
   "cell_type": "code",
   "execution_count": null,
   "metadata": {
    "scrolled": false,
    "tags": [
     "no_report"
    ]
   },
   "outputs": [],
   "source": [
    "# Let's take a look at the first lines to have a sense of the content\n",
    "display(df_tur_raw.info())\n",
    "display(df_tur_raw.head(n=20))"
   ]
  },
  {
   "cell_type": "code",
   "execution_count": null,
   "metadata": {},
   "outputs": [],
   "source": [
    "citation = df_tur_raw.loc[11, \"Unnamed: 3\"].replace('Suggested citation: ', '')"
   ]
  },
  {
   "cell_type": "markdown",
   "metadata": {
    "tags": [
     "no_report"
    ]
   },
   "source": [
    "The first 15 lines are the headers of the Excel sheet, the 15th seems to contain the headers of the columns. We are going to move this row as the columns headers and keep only the relevant part of the table."
   ]
  },
  {
   "cell_type": "code",
   "execution_count": null,
   "metadata": {},
   "outputs": [],
   "source": [
    "df_tur = df_tur_raw[15:].copy()\n",
    "df_tur.columns = df_tur_raw.loc[14].str.replace(',', '').str.replace(' ', '_').str.replace('\\n', '_').str.lower().tolist()\n",
    "# We could keep the percentage of urban population here but for the sake of the workshop, we\n",
    "# are dropping it and will recompute it later\n",
    "df_tur.drop(labels=['index', 'note', 'total', 'percentage_urban'], axis='columns', inplace=True)"
   ]
  },
  {
   "cell_type": "code",
   "execution_count": null,
   "metadata": {
    "tags": [
     "no_report"
    ]
   },
   "outputs": [],
   "source": [
    "# The table look a little bit cleaner–it does not have missing \n",
    "# values, for example–but we are still missing the proper types\n",
    "# for the columns. Indeed, the urban and rural populations have\n",
    "# a type object while they are \"people\", therefore integers.\n",
    "display(df_tur.info())\n",
    "display(df_tur.head())"
   ]
  },
  {
   "cell_type": "code",
   "execution_count": null,
   "metadata": {},
   "outputs": [],
   "source": [
    "df_tur['country_code'] = df_tur.country_code.astype(int)\n",
    "# Population are by thousands, we are bringing them back\n",
    "# to normal counts and transform the data into the right\n",
    "# type, namely integers.\n",
    "for c in ['urban', 'rural']:\n",
    "    df_tur[c] = df_tur[c] * 1000\n",
    "    df_tur[c] = df_tur[c].astype(int)"
   ]
  },
  {
   "cell_type": "code",
   "execution_count": null,
   "metadata": {
    "tags": [
     "no_report"
    ]
   },
   "outputs": [],
   "source": [
    "display(df_tur.info())\n",
    "display(df_tur.head(n=20))"
   ]
  },
  {
   "cell_type": "markdown",
   "metadata": {
    "tags": [
     "no_report"
    ]
   },
   "source": [
    "From the structure of the table above, it seems that the country codes around 900 play a different role. After all, the column is called “region, subregion country or area.” We can take a look at the content to help us in redesigning the table in a different way.\n",
    "> We could also open the spreadsheet in a proper tool like LibreOffice, Excel or Google Sheets. But that is a bit less fun."
   ]
  },
  {
   "cell_type": "code",
   "execution_count": null,
   "metadata": {
    "tags": [
     "no_report"
    ]
   },
   "outputs": [],
   "source": [
    "# Here, I make use of the .pipe() operator as an introduction for chaining methods. Chaining\n",
    "# is a slighlty different way–closer to functional programming–to apply operators to objects.\n",
    "# If you are interested, you can take a look at https://tomaugspurger.github.io/method-chaining\n",
    "df_tur[df_tur.country_code >= 900][['region_subregion_country_or_area', 'country_code']].pipe(display)"
   ]
  },
  {
   "cell_type": "code",
   "execution_count": null,
   "metadata": {
    "tags": [
     "no_report"
    ]
   },
   "outputs": [],
   "source": [
    "regions = ['AFRICA', 'ASIA', 'EUROPE', 'LATIN AMERICA AND THE CARIBBEAN', 'NORTHERN AMERICA', 'OCEANIA']\n",
    "sub_regions = df_tur[df_tur.country_code >= 900].region_subregion_country_or_area.tolist()\n",
    "# Notice the usage of sets here. It is a nice way to remove elements from an existing list\n",
    "sub_regions = list(set(sub_regions) - set(regions))\n",
    "print(sub_regions)"
   ]
  },
  {
   "cell_type": "markdown",
   "metadata": {
    "tags": [
     "no_report"
    ]
   },
   "source": [
    "The last part of the table corresponds to the regions and sub-regions as defined by the [United Nations](https://en.wikipedia.org/wiki/United_Nations_geoscheme). The country code is the norm [ISO-3166-1](https://en.wikipedia.org/wiki/ISO_3166-1_numeric). The spreadsheet is not built in a way which allows to easily assign a region or sub-region to a give country, it is built like a drop-down list. We are going to change that in order to ensure a one-to-many mapping between regions/sub-regions on one side and countries on the other."
   ]
  },
  {
   "cell_type": "code",
   "execution_count": null,
   "metadata": {
    "tags": [
     "no_report"
    ]
   },
   "outputs": [],
   "source": [
    "# We are fully making use here of the fact that the spreadsheet is built with the following\n",
    "# structure (region 1 → sub-region 1 → country 1 → country 2 → sub-region 2 → country 1 → country 2 → region 2 ...)\n",
    "df_tur['region'] = None\n",
    "df_tur.loc[\n",
    "    df_tur.region_subregion_country_or_area.isin(regions), 'region'] = df_tur.region_subregion_country_or_area\n",
    "df_tur['sub_region'] = None\n",
    "df_tur.loc[\n",
    "    df_tur.region_subregion_country_or_area.isin(sub_regions), 'sub_region'] = df_tur.region_subregion_country_or_area\n",
    "\n",
    "df_tur.fillna(method='ffill', inplace=True)\n",
    "\n",
    "# Northern america does not have sub regions\n",
    "df_tur.loc[df_tur.region == 'NORTHERN AMERICA'].pipe(display)\n",
    "df_tur.loc[df_tur.region == 'NORTHERN AMERICA', 'sub_region'] = 'Northern America'"
   ]
  },
  {
   "cell_type": "code",
   "execution_count": null,
   "metadata": {
    "tags": [
     "no_report"
    ]
   },
   "outputs": [],
   "source": [
    "# We can check here that our mapping makes sense by extracting the sub-regions per region\n",
    "more_than_903 = df_tur.country_code > 902\n",
    "in_regions = df_tur.region_subregion_country_or_area.isin(regions)\n",
    "not_sub_regions = df_tur.region_subregion_country_or_area.str.match('.*(countries|Less|More)')\n",
    "\n",
    "sub_regions = df_tur[more_than_903 & ~in_regions & ~not_sub_regions].region_subregion_country_or_area.tolist()\n",
    "df_sub_regions = df_tur[\n",
    "    df_tur.region_subregion_country_or_area.isin(sub_regions)\n",
    "].groupby(by='region').region_subregion_country_or_area.apply(lambda s: ', '.join(s.tolist()))\n",
    "\n",
    "df_sub_regions.pipe(display)"
   ]
  },
  {
   "cell_type": "markdown",
   "metadata": {
    "tags": [
     "no_report"
    ]
   },
   "source": [
    "We can now create a table dedicated to countries themselves as they are going to be the atomic unit for the analysis."
   ]
  },
  {
   "cell_type": "code",
   "execution_count": null,
   "metadata": {},
   "outputs": [],
   "source": [
    "# Countries have a country code lower than 900\n",
    "df_c = df_tur[df_tur.country_code < 900].copy()\n",
    "df_c.rename(columns=dict(region_subregion_country_or_area='country'), inplace=True)\n",
    "df_c.set_index(keys=['country'], inplace=True)"
   ]
  },
  {
   "cell_type": "markdown",
   "metadata": {
    "tags": [
     "no_report"
    ]
   },
   "source": [
    "We can check that we did not make any mistake during the cleaning process by comparing the total per region from our aggregated values and the ones provided by the genuine data themselves."
   ]
  },
  {
   "cell_type": "code",
   "execution_count": null,
   "metadata": {
    "tags": [
     "no_report"
    ]
   },
   "outputs": [],
   "source": [
    "df_r = df_c.groupby(by='region').agg(dict(urban='sum', rural='sum'))\n",
    "\n",
    "df_rg = df_tur[\n",
    "    df_tur.region_subregion_country_or_area.isin(regions)\n",
    "][['urban', 'rural', 'region_subregion_country_or_area']].set_index('region_subregion_country_or_area')\n",
    "\n",
    "df_r.join(df_rg, rsuffix='_g').pipe(display)"
   ]
  },
  {
   "cell_type": "code",
   "execution_count": null,
   "metadata": {
    "tags": [
     "no_report"
    ]
   },
   "outputs": [],
   "source": [
    "df_c.loc[['France', 'Malaysia']].pipe(display)"
   ]
  },
  {
   "cell_type": "markdown",
   "metadata": {},
   "source": [
    "Countries are grouped by region/continent as well as sub-regions. The following table is an extract for the sub-region South-Eastern Asia."
   ]
  },
  {
   "cell_type": "code",
   "execution_count": null,
   "metadata": {},
   "outputs": [],
   "source": [
    "sea_countries = list(df_c[df_c.sub_region == \"South-Eastern Asia\"].index)\n",
    "df_c.loc[sea_countries].pipe(align_left, row_heading=True)"
   ]
  },
  {
   "cell_type": "code",
   "execution_count": null,
   "metadata": {},
   "outputs": [],
   "source": [
    "# client = datasheets.Client()"
   ]
  },
  {
   "cell_type": "markdown",
   "metadata": {},
   "source": [
    "## South-Eastern Asia"
   ]
  },
  {
   "cell_type": "markdown",
   "metadata": {},
   "source": [
    "### Current situation"
   ]
  },
  {
   "cell_type": "code",
   "execution_count": null,
   "metadata": {},
   "outputs": [],
   "source": [
    "def format_percentage(f):\n",
    "    '''Format number into a percentage'''\n",
    "    return f'{100 * f:3.1f}%'"
   ]
  },
  {
   "cell_type": "code",
   "execution_count": null,
   "metadata": {},
   "outputs": [],
   "source": [
    "df_sea = df_c.loc[sea_countries].drop(['country_code', 'region', 'sub_region'], axis='columns')\n",
    "df_sea.index = df_sea.index.str.replace('Lao People\\'s Democratic Republic', 'Laos')"
   ]
  },
  {
   "cell_type": "code",
   "execution_count": null,
   "metadata": {},
   "outputs": [],
   "source": [
    "df_sea_total = df_sea.sum()\n",
    "df_sea_total_percentage = 100. * df_sea_total.divide(df_sea_total.sum())\n",
    "rural = df_sea_total_percentage.loc['rural']\n",
    "m = f'The majority–{rural:3.1f}%– of South-Eastern Asian is still rural but this number hides a disparities between the countries.'\n",
    "Markdown(m)"
   ]
  },
  {
   "cell_type": "markdown",
   "metadata": {},
   "source": [
    "Indeed, Malaysia is predominantly urban–around three quarters of the population lives in urban areas– while Cambodia is by far a rural country as shown by the table below."
   ]
  },
  {
   "cell_type": "code",
   "execution_count": null,
   "metadata": {},
   "outputs": [],
   "source": [
    "df_sea = df_sea.divide(df_sea.sum(axis='columns'), axis='rows').sort_values(by=['urban'], ascending=False)\n",
    "# Note that, as we render the table as a HTML one, we can use regular HTML tag like\n",
    "# <br> to shape the table the way we want\n",
    "df_sea.columns.name = 'Percentages of<br>total population'\n",
    "df_sea.index.name = ''\n",
    "\n",
    "# Here is a nice use of the chaining system\n",
    "df_sea.applymap(func=format_percentage).pipe(align_left, row_heading=True)"
   ]
  },
  {
   "cell_type": "markdown",
   "metadata": {},
   "source": [
    "### Evolution in time"
   ]
  },
  {
   "cell_type": "code",
   "execution_count": null,
   "metadata": {},
   "outputs": [],
   "source": [
    "urban_URL = root_url + 'WUP2018-F19-Urban_Population_Annual.xls'\n",
    "rural_URL = root_url +'WUP2018-F20-Rural_Population_Annual.xls'"
   ]
  },
  {
   "cell_type": "code",
   "execution_count": null,
   "metadata": {},
   "outputs": [],
   "source": [
    "urban_raw_data = pd.read_excel(io=urban_URL)\n",
    "rural_raw_data = pd.read_excel(io=rural_URL)"
   ]
  },
  {
   "cell_type": "code",
   "execution_count": null,
   "metadata": {},
   "outputs": [],
   "source": [
    "# We have learned the structure of the documents above. We could move the cleaning\n",
    "# into a set of functions at the top of the document or even include into a module\n",
    "# to be widely used.\n",
    "\n",
    "def clean_column_names(serie):\n",
    "    '''Remove punctuation, white spaces and\n",
    "    linebreaks from a string serie. Replace\n",
    "    white spaces and line breaks with underscore'''\n",
    "    cleaned_serie = serie.astype(\n",
    "        str\n",
    "    ).str.replace(\n",
    "        ',', ''\n",
    "    ).str.replace(\n",
    "        ' ', '_'\n",
    "    ).str.replace(\n",
    "        '\\n', '_'\n",
    "    )\n",
    "    return cleaned_serie.str.lower().tolist()\n",
    "\n",
    "def clean_temporal_dataframe(df):\n",
    "    '''Remove the unnecessary headers from the\n",
    "    table.'''\n",
    "\n",
    "    df_ = df[15:].copy()\n",
    "    df_.columns = df.loc[14].pipe(clean_column_names)\n",
    "    df_ = df_.drop(\n",
    "        labels=['index', 'note', 'country_code'],\n",
    "        axis='columns'\n",
    "    ).set_index(\n",
    "        keys=['region_subregion_country_or_area']\n",
    "    )\n",
    "    \n",
    "    # Transform populations into millions\n",
    "    df_ = df_ / 1.e3\n",
    "    \n",
    "    # Map the years into integers\n",
    "    df_.columns = df_.columns.map(float).map(int).unique()\n",
    "    # Put the years as the index and the regions as the\n",
    "    # columns\n",
    "    df_ = df_.transpose()\n",
    "    df_.index.name = 'year'\n",
    "    \n",
    "    return df_\n",
    "\n",
    "def select_countries(df, countries=None):\n",
    "    '''Select countries in the DataFrame. If the list\n",
    "    of countries is not given, the selection is made\n",
    "    by regions'''\n",
    "    selection =  countries if countries else ['AFRICA', 'ASIA', 'EUROPE', 'LATIN AMERICA AND THE CARIBBEAN', 'NORTHERN AMERICA', 'OCEANIA']\n",
    "    return df[selection]"
   ]
  },
  {
   "cell_type": "code",
   "execution_count": null,
   "metadata": {},
   "outputs": [],
   "source": [
    "urban_data = urban_raw_data.pipe(clean_temporal_dataframe)\n",
    "rural_data = rural_raw_data.pipe(clean_temporal_dataframe)"
   ]
  },
  {
   "cell_type": "code",
   "execution_count": null,
   "metadata": {},
   "outputs": [],
   "source": [
    "countries = [country for country in sea_countries if country not in ['Singapore', 'Brunei Darussalam']]\n",
    "urban_sea = urban_data.pipe(select_countries, countries=countries).copy()\n",
    "rural_sea = rural_data.pipe(select_countries, countries=countries).copy()\n",
    "\n",
    "urban_sea.columns = urban_sea.columns.str.replace('Lao People\\'s Democratic Republic', 'Laos')\n",
    "rural_sea.columns = rural_sea.columns.str.replace('Lao People\\'s Democratic Republic', 'Laos')"
   ]
  },
  {
   "cell_type": "markdown",
   "metadata": {},
   "source": [
    "The following chart shows the evolution of both rural and urban populations in South-Eastern Asian countries from 1950 to 2050 (projected after 2015).\n",
    "> Brunei Darussalam and Singapore are not represented as their populations are fully urbanized since the 1960s."
   ]
  },
  {
   "cell_type": "markdown",
   "metadata": {
    "tags": [
     "no_report"
    ]
   },
   "source": [
    "In the following chart, we are going to give a glimpse of the evolution in time of both the increase/decrease of rural/urban populations and the relative percentages. We have several options to do that. We could draw several charts for both populations and percentages. Here, I made a different choice. I plotted the populations and added the percentages as a “hover“ function."
   ]
  },
  {
   "cell_type": "code",
   "execution_count": null,
   "metadata": {},
   "outputs": [],
   "source": [
    "data = [\n",
    "    go.Scatter(\n",
    "        x=[2018, 2050],\n",
    "        y=[260, 260],\n",
    "        line=dict(color='#dcdcdc', width=0),\n",
    "        fill='tozeroy',\n",
    "        mode='lines',\n",
    "        showlegend=False,\n",
    "        hoverinfo='none')\n",
    "]\n",
    "\n",
    "for n, country in enumerate(urban_sea.columns):\n",
    "    \n",
    "    years = urban_sea.index\n",
    "    \n",
    "    # Percentages of rural/urban populations\n",
    "    ud = urban_sea[country].values\n",
    "    rd = rural_sea[country].values\n",
    "    percentages_ud = 100. * ud / (ud + rd)\n",
    "    percentages_rd = 100. - percentages_ud\n",
    "    \n",
    "    # Information to share when browsing over\n",
    "    hover_ud = list(zip(ud, percentages_ud))\n",
    "    hover_rd = list(zip(rd, percentages_rd))\n",
    "    hover_text_ud = list(\n",
    "        map(\n",
    "            lambda v: '{0} (urban): {1:3.1f}B ({2:3.1f}%)'.format(country, *v),  # Not the use of a different way of formatting strings\n",
    "            hover_ud\n",
    "        )\n",
    "    )\n",
    "    hover_text_rd = list(\n",
    "        map(\n",
    "            lambda v: '{0} (rural): {1:3.1f}B ({2:3.1f}%)'.format(country, *v),\n",
    "            hover_rd\n",
    "        )\n",
    "    )\n",
    "    \n",
    "    data+= [\n",
    "        go.Scatter(\n",
    "            x=years,\n",
    "            y=ud,\n",
    "            marker=dict(color=PALETTE[n%len(PALETTE)]),\n",
    "            name=country + ' (urban)' if n == 0 else country,\n",
    "            legendgroup=country,\n",
    "            text=hover_text_ud,\n",
    "            hoverinfo='text'\n",
    "        )\n",
    "    ]\n",
    "    data+= [\n",
    "        go.Scatter(\n",
    "            x=years,\n",
    "            y=rd,\n",
    "            line=dict(dash='dash'),\n",
    "            marker=dict(color=PALETTE[n%len(PALETTE)]),\n",
    "            name = country + ' (rural)' if n == 0 else country,\n",
    "            legendgroup=country,\n",
    "            text=hover_text_rd,\n",
    "            hoverinfo='text',\n",
    "            showlegend=True if n == 0 else False\n",
    "            )\n",
    "    ]\n",
    "    \n",
    "labels = dict(\n",
    "    title='Rural and urban populations in South-Eastern Asia from 1950 to 2050',\n",
    "    subtitle=(\n",
    "        'Malaysia\\'s and Indonesia\\'s rural decline started in the 1990s,<br>'\n",
    "        + 'while Thailand and Viet Nam joined the trend ten years later. Cambodia,<br>'\n",
    "        + 'Laos and Myanmar still exhibit a growth of their rural population.'\n",
    "    ),\n",
    "    ylabel='population (in millions)',\n",
    "    xlabel='')\n",
    "\n",
    "axes = dict(\n",
    "    xaxis=axis_no_title(showgrid=False),\n",
    "    yaxis=axis_no_title(showgrid=False),\n",
    "    legend=legend_dark(font_size=14))\n",
    "\n",
    "layout = layout_by_line_height(\n",
    "    **labels,\n",
    "    **axes,\n",
    "    left_margin=50,\n",
    "    right_margin=220,\n",
    "    font_family=fonts['ibm_plex']\n",
    ")\n",
    "\n",
    "figure = go.Figure(data=data, layout=layout)\n",
    "py.offline.iplot(figure_or_data=figure, show_link=False)"
   ]
  },
  {
   "cell_type": "markdown",
   "metadata": {},
   "source": [
    "Although all countries have seen a rise in the total population, two groups can be identified in terms of rural population behaviour:\n",
    "- Indonesia, Malaysia, Thailand and Viet Nam have already reached the peak of their rural population, the population declining since, respectively, in the 1990's and 2000's;\n",
    "- Cambodia's, Laos' and Myanmar's rural populations are still increasing with a decline projected to happen around the 2030's.\n",
    "> Cambodia exhibits a very particular pattern around 1975. The disappearance of the urban population is due to the Khmer Rouges taking over the country and literally emptying the cities from their inhabitants. The regime lasted for four years. "
   ]
  },
  {
   "cell_type": "markdown",
   "metadata": {
    "tags": [
     "no_report"
    ]
   },
   "source": [
    "We now have a complete notebook with both data extraction, cleaning and analysis. As, usually, the analysis target is not only one-self but a broader audience, we need to think on the way to share the information. \n",
    "\n",
    "We obviously can share the notebook either directly or through a platform like mybinder.org (if the data analysis is to be public). \n",
    "\n",
    "The notebook contains a lot of code though which may not be of interest to the audience. We can therefore leverage the possibility to transform the notebook into a HTML file, including the removal of the code cell and the comment ones. The cleaning is done by using Jinja2 templates. You can take a look at the file `report.tpl`.\n",
    "\n",
    "In order to generate a HTML file from the command line, _i.e._ in the terminal offered by Jupyter, you can use\n",
    "```\n",
    "jupyter nbconvert Urban_and_rural_populations.ipynb --template report.tpl\n",
    "```\n",
    "> Try with and without `--template report.tpl` to see the difference.\n",
    "\n",
    "Once the HTML file is generated, you can open it from the “Home” page of Jupyter."
   ]
  },
  {
   "cell_type": "code",
   "execution_count": null,
   "metadata": {},
   "outputs": [],
   "source": []
  }
 ],
 "metadata": {
  "celltoolbar": "Edit Metadata",
  "kernelspec": {
   "display_name": "Python 3",
   "language": "python",
   "name": "python3"
  },
  "language_info": {
   "codemirror_mode": {
    "name": "ipython",
    "version": 3
   },
   "file_extension": ".py",
   "mimetype": "text/x-python",
   "name": "python",
   "nbconvert_exporter": "python",
   "pygments_lexer": "ipython3",
   "version": "3.6.6"
  },
  "title": "Flavien"
 },
 "nbformat": 4,
 "nbformat_minor": 2
}
