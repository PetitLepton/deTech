{
 "cells": [
  {
   "cell_type": "code",
   "execution_count": null,
   "metadata": {},
   "outputs": [],
   "source": [
    "import pandas as pd \n",
    "from IPython.display import display\n",
    "import datasheets\n",
    "import plotly as py\n",
    "from plotly import tools\n",
    "import plotly.graph_objs as go\n",
    "from plotly_layout import *\n",
    "\n",
    "py.offline.init_notebook_mode(connected=True)\n",
    "test = True\n",
    "PALETTE = [\n",
    "    \"#4e79a7\",\n",
    "    \"#f28e2b\",\n",
    "    \"#e15759\",\n",
    "    \"#76b7b2\",\n",
    "    \"#59a14f\",\n",
    "    \"#edc948\",\n",
    "    \"#b07aa1\",\n",
    "    \"#ff9da7\",\n",
    "    \"#9c755f\",\n",
    "    \"#bab0ac\",]"
   ]
  },
  {
   "cell_type": "markdown",
   "metadata": {},
   "source": [
    "We are going to explore data from the United Nations with the following post as a guideline. \n",
    "\n",
    "_Hannah Ritchie and Max Roser (2018) - \"Urbanization\"._\n",
    "</br>_Published online at OurWorldInData.org._\n",
    "</br>[https://ourworldindata.org/urbanization](https://ourworldindata.org/urbanization)"
   ]
  },
  {
   "cell_type": "markdown",
   "metadata": {},
   "source": [
    "## Current situation"
   ]
  },
  {
   "cell_type": "markdown",
   "metadata": {},
   "source": [
    "The current urban and rural populations per country can be retrieved from the United Nations data portal as indicated in the article."
   ]
  },
  {
   "cell_type": "code",
   "execution_count": null,
   "metadata": {},
   "outputs": [],
   "source": [
    "country_codes_URL = 'https://unstats.un.org/unsd/methodology/m49/'"
   ]
  },
  {
   "cell_type": "code",
   "execution_count": null,
   "metadata": {},
   "outputs": [],
   "source": [
    "root_url = 'https://population.un.org/wup/Download/Files/'"
   ]
  },
  {
   "cell_type": "code",
   "execution_count": null,
   "metadata": {},
   "outputs": [],
   "source": [
    "url = root_url + 'WUP2018-F01-Total_Urban_Rural.xls'"
   ]
  },
  {
   "cell_type": "code",
   "execution_count": null,
   "metadata": {},
   "outputs": [],
   "source": [
    "df_tur_raw = pd.read_excel(io=url)"
   ]
  },
  {
   "cell_type": "code",
   "execution_count": null,
   "metadata": {},
   "outputs": [],
   "source": [
    "# The first 15 lines are the headers of the Excel sheet\n",
    "df_tur = df_tur_raw[15:].copy()\n",
    "df_tur.columns = df_tur_raw.loc[14].str.replace(',', '').str.replace(' ', '_').str.replace('\\n', '_').str.lower().tolist()\n",
    "df_tur.drop(labels=['index', 'note', 'total', 'percentage_urban'], axis='columns', inplace=True)"
   ]
  },
  {
   "cell_type": "code",
   "execution_count": null,
   "metadata": {},
   "outputs": [],
   "source": [
    "df_tur['country_code'] = df_tur.country_code.astype(int)\n",
    "# Population are by thousands\n",
    "for c in ['urban', 'rural']:\n",
    "    df_tur[c] = df_tur[c] * 1000\n",
    "    df_tur[c] = df_tur[c].astype(int)"
   ]
  },
  {
   "cell_type": "code",
   "execution_count": null,
   "metadata": {},
   "outputs": [],
   "source": [
    "if test:\n",
    "    df_tur.head(n=10).pipe(display)"
   ]
  },
  {
   "cell_type": "code",
   "execution_count": null,
   "metadata": {},
   "outputs": [],
   "source": [
    "def assign_groups(labels, groups):\n",
    "    current_label = ''\n",
    "    local_groups = []\n",
    "    for label in labels:\n",
    "        current_label = label if label in groups else current_label\n",
    "        local_groups.append(current_label)\n",
    "        \n",
    "    return local_groups"
   ]
  },
  {
   "cell_type": "code",
   "execution_count": null,
   "metadata": {},
   "outputs": [],
   "source": [
    "regions = ['AFRICA', 'LATIN AMERICA AND THE CARIBBEAN', 'NORTHERN AMERICA', 'EUROPE', 'OCEANIA', 'ASIA']\n",
    "df_tur['region'] = assign_groups(\n",
    "    labels=df_tur.region_subregion_country_or_area.tolist(),\n",
    "    groups=regions)"
   ]
  },
  {
   "cell_type": "code",
   "execution_count": null,
   "metadata": {},
   "outputs": [],
   "source": [
    "if test:\n",
    "    df_tur[df_tur.country_code > 902][['region_subregion_country_or_area', 'country_code']].pipe(display)"
   ]
  },
  {
   "cell_type": "code",
   "execution_count": null,
   "metadata": {},
   "outputs": [],
   "source": [
    "# Extract\n",
    "more_than_903 = df_tur.country_code > 902\n",
    "in_regions = df_tur.region_subregion_country_or_area.isin(regions)\n",
    "not_sub_regions = df_tur.region_subregion_country_or_area.str.match('.*(countries|Less|More)')\n",
    "\n",
    "sub_regions = df_tur[more_than_903 & ~in_regions & ~not_sub_regions].region_subregion_country_or_area.tolist()\n",
    "df_sub_regions = df_tur[\n",
    "    df_tur.region_subregion_country_or_area.isin(sub_regions)\n",
    "].groupby(by='region').region_subregion_country_or_area.apply(lambda s: ', '.join(s.tolist()))\n",
    "\n",
    "if test:\n",
    "    df_sub_regions.pipe(display)"
   ]
  },
  {
   "cell_type": "code",
   "execution_count": null,
   "metadata": {},
   "outputs": [],
   "source": [
    "df_tur['sub_region'] = assign_groups(\n",
    "    labels=df_tur.region_subregion_country_or_area.tolist(),\n",
    "    groups=sub_regions)\n",
    "df_tur.loc[df_tur.region == 'NORTHERN AMERICA', 'sub_region'] = 'Northern America'"
   ]
  },
  {
   "cell_type": "code",
   "execution_count": null,
   "metadata": {},
   "outputs": [],
   "source": [
    "# Countries have a country code lower than 900\n",
    "df_c = df_tur[df_tur.country_code < 900].copy()\n",
    "df_c.rename(columns=dict(region_subregion_country_or_area='country'), inplace=True)"
   ]
  },
  {
   "cell_type": "code",
   "execution_count": null,
   "metadata": {},
   "outputs": [],
   "source": [
    "if test:\n",
    "    df_c[~df_c.region.isin(regions)].pipe(display)\n",
    "    df_c[df_c.sub_region.isnull()].pipe(display)\n",
    "    df_c[df_c.country.isin(['France', 'Malaysia'])].pipe(display)"
   ]
  },
  {
   "cell_type": "code",
   "execution_count": null,
   "metadata": {},
   "outputs": [],
   "source": [
    "# We can now compute the total by region\n",
    "if test:\n",
    "    df_r = df_c.groupby(by='region').agg(\n",
    "        dict(\n",
    "            urban='sum',\n",
    "            rural='sum'))\n",
    "\n",
    "    df_rg = df_tur[\n",
    "        df_tur.region_subregion_country_or_area.isin(regions)\n",
    "    ][['urban', 'rural', 'region_subregion_country_or_area']].set_index('region_subregion_country_or_area')\n",
    "\n",
    "    df_r.join(df_rg, rsuffix='_g').pipe(display)"
   ]
  },
  {
   "cell_type": "markdown",
   "metadata": {},
   "source": [
    "## Evolution in time"
   ]
  },
  {
   "cell_type": "code",
   "execution_count": null,
   "metadata": {},
   "outputs": [],
   "source": [
    "urban_URL = root_url + 'WUP2018-F19-Urban_Population_Annual.xls'\n",
    "rural_URL = root_url +'WUP2018-F20-Rural_Population_Annual.xls'"
   ]
  },
  {
   "cell_type": "code",
   "execution_count": null,
   "metadata": {},
   "outputs": [],
   "source": [
    "urban_raw_data = pd.read_excel(io=urban_URL)\n",
    "rural_raw_data = pd.read_excel(io=rural_URL)"
   ]
  },
  {
   "cell_type": "code",
   "execution_count": null,
   "metadata": {},
   "outputs": [],
   "source": [
    "def clean_column_names(serie):\n",
    "    cleaned_serie = serie.astype(\n",
    "        str\n",
    "    ).str.replace(\n",
    "        ',', ''\n",
    "    ).str.replace(\n",
    "        ' ', '_'\n",
    "    ).str.replace(\n",
    "        '\\n', '_'\n",
    "    )\n",
    "    return cleaned_serie.str.lower().tolist()"
   ]
  },
  {
   "cell_type": "code",
   "execution_count": null,
   "metadata": {},
   "outputs": [],
   "source": [
    "def clean_temporal_dataframe(df):\n",
    "    ''''''\n",
    "    df_ = df[15:].copy()\n",
    "    df_.columns = df.loc[14].pipe(clean_column_names)\n",
    "    df_ = df_.drop(\n",
    "        labels=['index', 'note', 'country_code'],\n",
    "        axis='columns'\n",
    "    ).set_index(\n",
    "        keys=['region_subregion_country_or_area']\n",
    "    )\n",
    "    # Map the years into integers\n",
    "    df_.columns = df_.columns.map(float).map(int).unique()\n",
    "    # Put the years as the index and the regions as the\n",
    "    # columns\n",
    "    df_ = df_.transpose()\n",
    "    df_.index.name = 'year'\n",
    "    \n",
    "    return df_"
   ]
  },
  {
   "cell_type": "code",
   "execution_count": null,
   "metadata": {},
   "outputs": [],
   "source": [
    "urban_data = urban_raw_data.pipe(clean_temporal_dataframe)\n",
    "rural_data = rural_raw_data.pipe(clean_temporal_dataframe)"
   ]
  },
  {
   "cell_type": "code",
   "execution_count": null,
   "metadata": {},
   "outputs": [],
   "source": [
    "def select_countries(df, countries=None):\n",
    "    selection =  countries if countries else ['AFRICA', 'ASIA', 'EUROPE', 'LATIN AMERICA AND THE CARIBBEAN', 'NORTHERN AMERICA', 'OCEANIA']\n",
    "    return df[selection]"
   ]
  },
  {
   "cell_type": "code",
   "execution_count": null,
   "metadata": {},
   "outputs": [],
   "source": [
    "urban_data_by_region = urban_data.pipe(select_countries)\n",
    "rural_data_by_region = rural_data.pipe(select_countries)"
   ]
  },
  {
   "cell_type": "code",
   "execution_count": null,
   "metadata": {
    "scrolled": false
   },
   "outputs": [],
   "source": [
    "data = [\n",
    "    go.Scatter(\n",
    "        x=[2018, 2050],\n",
    "        y=[3.5, 3.5],\n",
    "        line=dict(color='#dcdcdc', width=0),\n",
    "        fill='tozeroy',\n",
    "        mode='lines',\n",
    "        showlegend=False)\n",
    "]\n",
    "\n",
    "for n, region in enumerate(urban_data_by_region.columns):\n",
    "    data+= [\n",
    "        go.Scatter(\n",
    "            x=urban_data_by_region.index,\n",
    "            y=urban_data_by_region[region].values / 1.e6,\n",
    "            marker=dict(color=PALETTE[n]),\n",
    "            name=region + ' (Urban)' if n == 0 else region,\n",
    "            legendgroup=region\n",
    "            )]\n",
    "    data+= [\n",
    "        go.Scatter(\n",
    "            x=rural_data_by_region.index,\n",
    "            y=rural_data_by_region[region].values / 1.e6,\n",
    "            line=dict(dash='dash'),\n",
    "            marker=dict(color=PALETTE[n]),\n",
    "            name = region + ' (Rural)' if n == 0 else region,\n",
    "            legendgroup=region,\n",
    "            showlegend=True if n == 0 else False\n",
    "            )]\n",
    "    \n",
    "labels = dict(\n",
    "    title='Rural and urban population from 1950 to 2050',\n",
    "    subtitle='The gray area corresponds to projections.',\n",
    "    ylabel='population (in billions)',\n",
    "    xlabel='')\n",
    "\n",
    "axes = dict(\n",
    "    xaxis=axis_no_title(showgrid=False),\n",
    "    yaxis=axis_no_title(showgrid=False),\n",
    "    legend=legend_dark(font_size=14))\n",
    "\n",
    "layout = layout_by_line_height(\n",
    "    **labels,\n",
    "    **axes,\n",
    "    left_margin=50,\n",
    "    right_margin=300,)\n",
    "\n",
    "figure = go.Figure(data=data, layout=layout)\n",
    "py.offline.iplot(figure_or_data=figure, show_link=False)"
   ]
  },
  {
   "cell_type": "code",
   "execution_count": null,
   "metadata": {},
   "outputs": [],
   "source": []
  }
 ],
 "metadata": {
  "kernelspec": {
   "display_name": "Python 3",
   "language": "python",
   "name": "python3"
  },
  "language_info": {
   "codemirror_mode": {
    "name": "ipython",
    "version": 3
   },
   "file_extension": ".py",
   "mimetype": "text/x-python",
   "name": "python",
   "nbconvert_exporter": "python",
   "pygments_lexer": "ipython3",
   "version": "3.6.6"
  }
 },
 "nbformat": 4,
 "nbformat_minor": 2
}
